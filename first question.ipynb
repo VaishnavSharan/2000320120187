{
  "nbformat": 4,
  "nbformat_minor": 0,
  "metadata": {
    "colab": {
      "provenance": [],
      "authorship_tag": "ABX9TyPill2/MI7FkyMKECD7N26l",
      "include_colab_link": true
    },
    "kernelspec": {
      "name": "python3",
      "display_name": "Python 3"
    },
    "language_info": {
      "name": "python"
    }
  },
  "cells": [
    {
      "cell_type": "markdown",
      "metadata": {
        "id": "view-in-github",
        "colab_type": "text"
      },
      "source": [
        "<a href=\"https://colab.research.google.com/github/VaishnavSharan/2000320120187/blob/main/first%20question.ipynb\" target=\"_parent\"><img src=\"https://colab.research.google.com/assets/colab-badge.svg\" alt=\"Open In Colab\"/></a>"
      ]
    },
    {
      "cell_type": "code",
      "execution_count": null,
      "metadata": {
        "id": "NuxKc3CYLh-r"
      },
      "outputs": [],
      "source": [
        "from flask import Flask, jsonify, request\n",
        "import requests\n",
        "import gevent\n",
        "from gevent import monkey\n",
        "\n",
        "monkey.patch_all()\n",
        "\n",
        "app = Flask(__name__)\n",
        "\n",
        "def fetch_numbers(url):\n",
        "    try:\n",
        "        response = requests.get(url)\n",
        "        if response.status_code == 200:\n",
        "            data = response.json()\n",
        "            return data.get('numbers', [])\n",
        "    except:\n",
        "        pass\n",
        "    return []\n",
        "\n",
        "@app.route('/numbers')\n",
        "def get_numbers():\n",
        "    urls = request.args.getlist('url')\n",
        "    urls = list(set(urls))  # Remove duplicate URLs if any\n",
        "\n",
        "    jobs = [gevent.spawn(fetch_numbers, url) for url in urls]\n",
        "    gevent.joinall(jobs, timeout=0.5)  # Set the timeout to 0.5 seconds\n",
        "\n",
        "    numbers = []\n",
        "    for job in jobs:\n",
        "        result = job.value\n",
        "        if result:\n",
        "            numbers.extend(result)\n",
        "\n",
        "    numbers = sorted(list(set(numbers)))  # Sort and remove duplicates\n",
        "\n",
        "    return jsonify({\"numbers\": numbers})\n",
        "\n",
        "if __name__ == '__main__':\n",
        "    app.run(host='localhost', port=8008)"
      ]
    }
  ]
}